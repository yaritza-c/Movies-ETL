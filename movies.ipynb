{
 "cells": [
  {
   "cell_type": "code",
   "execution_count": 1,
   "id": "98384b55",
   "metadata": {},
   "outputs": [],
   "source": [
    "import json\n",
    "import pandas as pd\n",
    "import numpy as np"
   ]
  },
  {
   "cell_type": "code",
   "execution_count": 2,
   "id": "68e6d3d5",
   "metadata": {},
   "outputs": [],
   "source": [
    "file_dir = '../wikipedia-movies.json'\n",
    "#file_dir = 'C:\\Users\\colon\\OneDrive\\Desktop\\CaseWestern\\Module 8 ETL-Extract,Transform, Load\\Movies-ETL'\n"
   ]
  },
  {
   "cell_type": "code",
   "execution_count": 3,
   "id": "c27f8d69",
   "metadata": {},
   "outputs": [
    {
     "data": {
      "text/plain": [
       "'../wikipedia-movies.jsonwikipedia-movies.json'"
      ]
     },
     "execution_count": 3,
     "metadata": {},
     "output_type": "execute_result"
    }
   ],
   "source": [
    "f'{file_dir}wikipedia-movies.json'\n"
   ]
  },
  {
   "cell_type": "code",
   "execution_count": 4,
   "id": "7b4669ad",
   "metadata": {},
   "outputs": [
    {
     "ename": "FileNotFoundError",
     "evalue": "[Errno 2] No such file or directory: '../wikipedia-movies.json/wikipedia-movies.json'",
     "output_type": "error",
     "traceback": [
      "\u001b[1;31m---------------------------------------------------------------------------\u001b[0m",
      "\u001b[1;31mFileNotFoundError\u001b[0m                         Traceback (most recent call last)",
      "\u001b[1;32m~\\AppData\\Local\\Temp\\ipykernel_7884\\3951331116.py\u001b[0m in \u001b[0;36m<module>\u001b[1;34m\u001b[0m\n\u001b[0;32m      2\u001b[0m \u001b[1;31m#load() to save the data to a new variable.\u001b[0m\u001b[1;33m\u001b[0m\u001b[1;33m\u001b[0m\u001b[1;33m\u001b[0m\u001b[0m\n\u001b[0;32m      3\u001b[0m \u001b[1;33m\u001b[0m\u001b[0m\n\u001b[1;32m----> 4\u001b[1;33m \u001b[1;32mwith\u001b[0m \u001b[0mopen\u001b[0m\u001b[1;33m(\u001b[0m\u001b[1;34mf'{file_dir}/wikipedia-movies.json'\u001b[0m\u001b[1;33m,\u001b[0m \u001b[0mmode\u001b[0m\u001b[1;33m=\u001b[0m\u001b[1;34m'r'\u001b[0m\u001b[1;33m)\u001b[0m \u001b[1;32mas\u001b[0m \u001b[0mfile\u001b[0m\u001b[1;33m:\u001b[0m\u001b[1;33m\u001b[0m\u001b[1;33m\u001b[0m\u001b[0m\n\u001b[0m\u001b[0;32m      5\u001b[0m     \u001b[0mwiki_movies_raw\u001b[0m \u001b[1;33m=\u001b[0m \u001b[0mjson\u001b[0m\u001b[1;33m.\u001b[0m\u001b[0mload\u001b[0m\u001b[1;33m(\u001b[0m\u001b[0mfile\u001b[0m\u001b[1;33m)\u001b[0m\u001b[1;33m\u001b[0m\u001b[1;33m\u001b[0m\u001b[0m\n\u001b[0;32m      6\u001b[0m \u001b[1;33m\u001b[0m\u001b[0m\n",
      "\u001b[1;31mFileNotFoundError\u001b[0m: [Errno 2] No such file or directory: '../wikipedia-movies.json/wikipedia-movies.json'"
     ]
    }
   ],
   "source": [
    "#open the Wikipedia JSON file to be read into the variable file, and use json.\n",
    "#load() to save the data to a new variable.\n",
    "\n",
    "with open(f'{file_dir}/wikipedia-movies.json', mode='r') as file:\n",
    "    wiki_movies_raw = json.load(file)\n",
    " "
   ]
  },
  {
   "cell_type": "code",
   "execution_count": null,
   "id": "30433cd6",
   "metadata": {},
   "outputs": [],
   "source": [
    "# check how many records were pulled in\n",
    "len(wiki_movies_raw)"
   ]
  },
  {
   "cell_type": "code",
   "execution_count": null,
   "id": "12e80e9c",
   "metadata": {},
   "outputs": [],
   "source": [
    "# see first 5 records\n",
    "wiki_movies_raw[:5]"
   ]
  },
  {
   "cell_type": "code",
   "execution_count": null,
   "id": "da695b79",
   "metadata": {},
   "outputs": [],
   "source": [
    "# Some records in the middle\n",
    "wiki_movies_raw[3600:3605]"
   ]
  },
  {
   "cell_type": "code",
   "execution_count": null,
   "id": "9e7cc562",
   "metadata": {},
   "outputs": [],
   "source": [
    "# download file\n",
    "kaggle_metadata = pd.read_csv(f'{file_dir}movies_metadata.csv', low_memory=False)\n",
    "ratings = pd.read_csv(f'{file_dir}ratings.csv')"
   ]
  },
  {
   "cell_type": "code",
   "execution_count": null,
   "id": "76146776",
   "metadata": {},
   "outputs": [],
   "source": [
    "kaggle_metada(head)\n",
    "ratings(head)"
   ]
  },
  {
   "cell_type": "code",
   "execution_count": null,
   "id": "59145553",
   "metadata": {},
   "outputs": [],
   "source": [
    "#will show five random rows from the dataset\n",
    "\n",
    "df.sample(n=5)"
   ]
  },
  {
   "cell_type": "code",
   "execution_count": null,
   "id": "6c1c5939",
   "metadata": {},
   "outputs": [],
   "source": [
    "wiki_movies_df = pd.DataFrame(wiki_movies_raw)\n"
   ]
  },
  {
   "cell_type": "code",
   "execution_count": null,
   "id": "a9e305d9",
   "metadata": {},
   "outputs": [],
   "source": [
    "wiki_movies_df.head()\n",
    "#print(wiki_movies_df.columns)"
   ]
  },
  {
   "cell_type": "code",
   "execution_count": null,
   "id": "36d51a1a",
   "metadata": {},
   "outputs": [],
   "source": [
    "wiki_movies_df.columns.tolist()"
   ]
  },
  {
   "cell_type": "code",
   "execution_count": null,
   "id": "f9cc7931",
   "metadata": {},
   "outputs": [],
   "source": [
    "#List Comprehensions to Filter Data\n",
    "\n",
    "#compress code\n",
    "[expression for element in source_list]\n",
    "\n",
    "#filter out results using a conditional filter expression\n",
    "[expression for element in source_list if filter_expression]\n"
   ]
  },
  {
   "cell_type": "code",
   "execution_count": null,
   "id": "d4da470d",
   "metadata": {},
   "outputs": [],
   "source": [
    "# filter expression for only movies with a director and an IMDb link\n",
    "\n",
    "if ('Director' in movie or 'Directed by' in movie) and 'imdb_link' in movie\n"
   ]
  },
  {
   "cell_type": "code",
   "execution_count": null,
   "id": "52fb3dc9",
   "metadata": {},
   "outputs": [],
   "source": [
    "#See how many movies are in wiki_movies with the len() function.\n",
    "\n",
    "\n",
    "wiki_movies = [movie for movie in wiki_movies_raw\n",
    "               if ('Director' in movie or 'Directed by' in movie)\n",
    "                   and 'imdb_link' in movie]\n",
    "len(wiki_movies)\n",
    "\n"
   ]
  },
  {
   "cell_type": "code",
   "execution_count": null,
   "id": "e954ceb0",
   "metadata": {},
   "outputs": [],
   "source": [
    "# remove tv shows. only include movie data\n",
    "\n",
    "wiki_movies = [movie for movie in wiki_movies_raw\n",
    "               if ('Director' in movie or 'Directed by' in movie)\n",
    "                   and 'imdb_link' in movie\n",
    "                   and 'No. of episodes' not in movie]"
   ]
  },
  {
   "cell_type": "code",
   "execution_count": null,
   "id": "2cee734c",
   "metadata": {},
   "outputs": [],
   "source": [
    "x = 'global value'\n",
    "\n",
    "def foo():\n",
    "    x = 'local value'\n",
    "    print(x)\n",
    "\n",
    "foo()\n",
    "print(x)"
   ]
  },
  {
   "cell_type": "code",
   "execution_count": null,
   "id": "178306ea",
   "metadata": {},
   "outputs": [],
   "source": [
    "my_list = [1,2,3]\n",
    "def append_four(x):\n",
    "    x.append(4)\n",
    "append_four(my_list)\n",
    "print(my_list)"
   ]
  },
  {
   "cell_type": "code",
   "execution_count": null,
   "id": "0c15fea9",
   "metadata": {},
   "outputs": [],
   "source": [
    "new_list = list(old_list)\n",
    "new_dict = dict(old_dict)"
   ]
  },
  {
   "cell_type": "code",
   "execution_count": null,
   "id": "0625f3ed",
   "metadata": {},
   "outputs": [],
   "source": [
    "square = lambda x: x * x\n",
    "square(5)"
   ]
  },
  {
   "cell_type": "code",
   "execution_count": null,
   "id": "6ec33276",
   "metadata": {},
   "outputs": [],
   "source": [
    "# clean data\n",
    "def clean_movie(movie):\n",
    "    movie = dict(movie) #create a non-destructive copy\n",
    "    return movie"
   ]
  },
  {
   "cell_type": "code",
   "execution_count": null,
   "id": "f0930d58",
   "metadata": {},
   "outputs": [],
   "source": [
    "wiki_movies_df[wiki_movies_df['Arabic'].notnull()]"
   ]
  },
  {
   "cell_type": "code",
   "execution_count": null,
   "id": "1a8f89af",
   "metadata": {},
   "outputs": [],
   "source": [
    "wiki_movies_df[wiki_movies_df['Arabic'].notnull()]['url']"
   ]
  },
  {
   "cell_type": "code",
   "execution_count": null,
   "id": "b5e9a0d5",
   "metadata": {},
   "outputs": [],
   "source": [
    "# display columns in alphabetical order\n",
    "\n",
    "sorted(wiki_movies_df.columns.tolist())"
   ]
  },
  {
   "cell_type": "code",
   "execution_count": null,
   "id": "daf2ecec",
   "metadata": {},
   "outputs": [],
   "source": [
    "# Make an empty dict to hold all of the alternative titles.\n",
    "\n",
    "def clean_movie(movie):\n",
    "    movie = dict(movie) #create a non-destructive copy\n",
    "    alt_titles = {}\n",
    "    return movie\n"
   ]
  },
  {
   "cell_type": "code",
   "execution_count": null,
   "id": "dfbf883c",
   "metadata": {},
   "outputs": [],
   "source": [
    "# Loop through a list of all alternative title keys.\n",
    "\n",
    "def clean_movie(movie):\n",
    "    movie = dict(movie) #create a non-destructive copy\n",
    "    alt_titles = {}\n",
    "    for key in ['Also known as','Arabic','Cantonese','Chinese','French',\n",
    "                'Hangul','Hebrew','Hepburn','Japanese','Literally',\n",
    "                'Mandarin','McCune–Reischauer','Original title','Polish',\n",
    "                'Revised Romanization','Romanized','Russian',\n",
    "                'Simplified','Traditional','Yiddish']:\n",
    "        #Check if the current key exists in the movie object.\n",
    "        if key in movie:\n",
    "        # If so, remove the key-value pair and add to the alternative titles dictionary.\n",
    "            alt_titles[key] = movie[key]\n",
    "            movie.pop(key)\n",
    "    #fter looping through every key, add the alternative titles dict to the movie object.\n",
    "    if len(alt_titles) > 0:\n",
    "        movie['alt_titles'] = alt_titles\n",
    "\n",
    "    return movie"
   ]
  },
  {
   "cell_type": "code",
   "execution_count": null,
   "id": "f3c14260",
   "metadata": {},
   "outputs": [],
   "source": [
    "#We can make a list of cleaned movies with a list comprehension:\n",
    "clean_movies = [clean_movie(movie) for movie in wiki_movies]\n",
    "\n",
    "# Set wiki_movies_df to be the DataFrame created from clean_movies, and print out a list of the columns.\n",
    "wiki_movies_df = pd.DataFrame(clean_movies)\n",
    "sorted(wiki_movies_df.columns.tolist())"
   ]
  },
  {
   "cell_type": "code",
   "execution_count": null,
   "id": "de121049",
   "metadata": {},
   "outputs": [],
   "source": [
    "#change_column_name('Directed by', 'Director')\n"
   ]
  },
  {
   "cell_type": "code",
   "execution_count": null,
   "id": "5dfc269f",
   "metadata": {},
   "outputs": [],
   "source": [
    "\n",
    "def clean_movie(movie):\n",
    "    movie = dict(movie) #create a non-destructive copy\n",
    "    alt_titles = {}\n",
    "    # combine alternate titles into one list\n",
    "    for key in ['Also known as','Arabic','Cantonese','Chinese','French',\n",
    "                'Hangul','Hebrew','Hepburn','Japanese','Literally',\n",
    "                'Mandarin','McCune-Reischauer','Original title','Polish',\n",
    "                'Revised Romanization','Romanized','Russian',\n",
    "                'Simplified','Traditional','Yiddish']:\n",
    "        if key in movie:\n",
    "            alt_titles[key] = movie[key]\n",
    "            movie.pop(key)\n",
    "    if len(alt_titles) > 0:\n",
    "        movie['alt_titles'] = alt_titles\n",
    "\n",
    "    # merge column names\n",
    "    def change_column_name(old_name, new_name):\n",
    "        if old_name in movie:\n",
    "            movie[new_name] = movie.pop(old_name)\n",
    "    change_column_name('Adaptation by', 'Writer(s)')\n",
    "    change_column_name('Country of origin', 'Country')\n",
    "    change_column_name('Directed by', 'Director')\n",
    "    change_column_name('Distributed by', 'Distributor')\n",
    "    change_column_name('Edited by', 'Editor(s)')\n",
    "    change_column_name('Length', 'Running time')\n",
    "    change_column_name('Original release', 'Release date')\n",
    "    change_column_name('Music by', 'Composer(s)')\n",
    "    change_column_name('Produced by', 'Producer(s)')\n",
    "    change_column_name('Producer', 'Producer(s)')\n",
    "    change_column_name('Productioncompanies ', 'Production company(s)')\n",
    "    change_column_name('Productioncompany ', 'Production company(s)')\n",
    "    change_column_name('Released', 'Release Date')\n",
    "    change_column_name('Release Date', 'Release date')\n",
    "    change_column_name('Screen story by', 'Writer(s)')\n",
    "    change_column_name('Screenplay by', 'Writer(s)')\n",
    "    change_column_name('Story by', 'Writer(s)')\n",
    "    change_column_name('Theme music composer', 'Composer(s)')\n",
    "    change_column_name('Written by', 'Writer(s)')\n",
    "\n",
    "    return movie\n"
   ]
  },
  {
   "cell_type": "code",
   "execution_count": null,
   "id": "37e25483",
   "metadata": {},
   "outputs": [],
   "source": [
    "#Now we can rerun our list comprehension to clean wiki_movies and recreate wiki_movies_df.\n",
    "\n",
    "clean_movies = [clean_movie(movie) for movie in wiki_movies]\n",
    "wiki_movies_df = pd.DataFrame(clean_movies)\n",
    "sorted(wiki_movies_df.columns.tolist())\n"
   ]
  },
  {
   "cell_type": "code",
   "execution_count": null,
   "id": "3917a1ba",
   "metadata": {},
   "outputs": [],
   "source": [
    "wiki_movies_df['imdb_id'] = wiki_movies_df['imdb_link'].str.extract(r'(tt\\d{7})')\n",
    "print(len(wiki_movies_df))\n",
    "wiki_movies_df.drop_duplicates(subset='imdb_id', inplace=True)\n",
    "print(len(wiki_movies_df))\n",
    "wiki_movies_df.head()"
   ]
  },
  {
   "cell_type": "code",
   "execution_count": null,
   "id": "6818e77b",
   "metadata": {},
   "outputs": [],
   "source": [
    "# list comprehension to get the count of null\n",
    "[[column,wiki_movies_df[column].isnull().sum()] for column in wiki_movies_df.columns]\n"
   ]
  },
  {
   "cell_type": "code",
   "execution_count": null,
   "id": "7c6a42b4",
   "metadata": {},
   "outputs": [],
   "source": [
    "# list f columns that have less than 90% null values and use those to trim down our dataset.\n",
    "[column for column in wiki_movies_df.columns if wiki_movies_df[column].isnull().sum() < len(wiki_movies_df) * 0.9]\n"
   ]
  },
  {
   "cell_type": "code",
   "execution_count": null,
   "id": "a23109e3",
   "metadata": {},
   "outputs": [],
   "source": [
    "# list columns the we want to keep\n",
    "wiki_columns_to_keep = [column for column in wiki_movies_df.columns if wiki_movies_df[column].isnull().sum() < len(wiki_movies_df) * 0.9]\n",
    "wiki_movies_df = wiki_movies_df[wiki_columns_to_keep]\n"
   ]
  },
  {
   "cell_type": "code",
   "execution_count": null,
   "id": "29278e10",
   "metadata": {},
   "outputs": [],
   "source": [
    "# data series that drops missing values \n",
    "box_office = wiki_movies_df['Box office'].dropna()\n"
   ]
  },
  {
   "cell_type": "code",
   "execution_count": null,
   "id": "6db6eb51",
   "metadata": {},
   "outputs": [],
   "source": [
    "# Regular expressions only work on strings, so we'll need to make sure all of the box office data is entered as a string\n",
    "# use map() method to check which values are not strings\n",
    "def is_not_a_string(x):\n",
    "    return type(x) != str\n",
    "\n",
    "# then add\n",
    "box_office[box_office.map(is_not_a_string)]\n"
   ]
  },
  {
   "cell_type": "code",
   "execution_count": null,
   "id": "7538cd6d",
   "metadata": {},
   "outputs": [],
   "source": [
    "# lambda function instead of using (is_not _a_string)\n",
    "\n",
    "box_office[box_office.map(lambda x: type(x) != str)]\n"
   ]
  },
  {
   "cell_type": "code",
   "execution_count": null,
   "id": "40dc57de",
   "metadata": {},
   "outputs": [],
   "source": [
    "# add join string\n",
    "\n",
    "box_office = box_office.apply(lambda x: ' '.join(x) if type(x) == list else x)\n"
   ]
  },
  {
   "cell_type": "code",
   "execution_count": null,
   "id": "6bd20f5e",
   "metadata": {},
   "outputs": [],
   "source": [
    "# Looking through the data, many of the box office numbers are written either like \"\\$123.4 million\" (or billion) or \"\\$123,456,789\n",
    "# built-in Python module to find how many data styles\n",
    "\n",
    "import re\n"
   ]
  },
  {
   "cell_type": "code",
   "execution_count": null,
   "id": "8ff88f51",
   "metadata": {},
   "outputs": [],
   "source": [
    "\n",
    "form_one = r'\\$\\d+\\.?\\d*\\s*[mb]illion'\n"
   ]
  },
  {
   "cell_type": "code",
   "execution_count": null,
   "id": "a346644d",
   "metadata": {},
   "outputs": [],
   "source": [
    "box_office.str.contains(form_one, flags=re.IGNORECASE, na=False).sum()"
   ]
  },
  {
   "cell_type": "code",
   "execution_count": null,
   "id": "474f8e3c",
   "metadata": {},
   "outputs": [],
   "source": [
    "form_two = r'\\$\\d{1,3}(?:,\\d{3})+'\n",
    "box_office.str.contains(form_two, flags=re.IGNORECASE, na=False).sum()"
   ]
  },
  {
   "cell_type": "code",
   "execution_count": null,
   "id": "9dc133dc",
   "metadata": {},
   "outputs": [],
   "source": [
    "matches_form_one = box_office.str.contains(form_one, flags=re.IGNORECASE, na=False)\n",
    "matches_form_two = box_office.str.contains(form_two, flags=re.IGNORECASE, na=False)"
   ]
  },
  {
   "cell_type": "code",
   "execution_count": null,
   "id": "b923b7a7",
   "metadata": {},
   "outputs": [],
   "source": [
    "# this will throw an error!\n",
    "box_office[(not matches_form_one) and (not matches_form_two)]"
   ]
  },
  {
   "cell_type": "code",
   "execution_count": null,
   "id": "4e80365c",
   "metadata": {},
   "outputs": [],
   "source": [
    "# use this code instead\n",
    "\n",
    "box_office[~matches_form_one & ~matches_form_two]\n",
    "\n"
   ]
  },
  {
   "cell_type": "code",
   "execution_count": null,
<<<<<<< HEAD
   "id": "15d340cf",
=======
   "id": "0a3b9c40",
>>>>>>> bfc022fe9b7cc4f3de1fc0e1f19c9f95fc513125
   "metadata": {},
   "outputs": [],
   "source": [
    "# fix pattern \n",
    "\n",
    "form_one = r'\\$\\s*\\d+\\.?\\d*\\s*[mb]illion'\n",
    "form_two = r'\\$\\s*\\d{1,3}(?:,\\d{3})+'"
   ]
  },
  {
   "cell_type": "code",
   "execution_count": null,
<<<<<<< HEAD
   "id": "bddfbfbb",
=======
   "id": "b6199721",
>>>>>>> bfc022fe9b7cc4f3de1fc0e1f19c9f95fc513125
   "metadata": {},
   "outputs": [],
   "source": [
    "form_two = r'\\$\\s*\\d{1,3}(?:[,\\.]\\d{3})+'"
   ]
  },
  {
   "cell_type": "code",
   "execution_count": null,
<<<<<<< HEAD
   "id": "19035ad2",
=======
   "id": "39a64914",
>>>>>>> bfc022fe9b7cc4f3de1fc0e1f19c9f95fc513125
   "metadata": {},
   "outputs": [],
   "source": [
    "form_two = r'\\$\\s*\\d{1,3}(?:[,\\.]\\d{3})+(?!\\s[mb]illion)'"
   ]
  },
  {
   "cell_type": "code",
   "execution_count": null,
<<<<<<< HEAD
   "id": "670f37e0",
=======
   "id": "c084ca11",
>>>>>>> bfc022fe9b7cc4f3de1fc0e1f19c9f95fc513125
   "metadata": {},
   "outputs": [],
   "source": [
    "# range\n",
    "box_office = box_office.str.replace(r'\\$.*[-—–](?![a-z])', '$', regex=True)\n"
   ]
  },
  {
   "cell_type": "code",
   "execution_count": null,
<<<<<<< HEAD
   "id": "0d9be6a4",
=======
   "id": "eafb5497",
>>>>>>> bfc022fe9b7cc4f3de1fc0e1f19c9f95fc513125
   "metadata": {},
   "outputs": [],
   "source": [
    "# Million\" is sometimes misspelled as \"millon.\"\n",
    "# This is easy enough to fix; we can just make the second \"i\" optional\n",
    "# in our match string with a question mark as follows:\n",
    "\n",
    "form_one = r'\\$\\s*\\d+\\.?\\d*\\s*[mb]illi?on'\n"
   ]
  },
  {
   "cell_type": "code",
   "execution_count": null,
<<<<<<< HEAD
   "id": "e1857cc0",
=======
   "id": "953f9aed",
>>>>>>> bfc022fe9b7cc4f3de1fc0e1f19c9f95fc513125
   "metadata": {},
   "outputs": [],
   "source": [
    "# Extract and Convert the Box Office Values\n",
    "\n",
    "box_office.str.extract(f'({form_one}|{form_two})')\n"
   ]
  },
  {
   "cell_type": "code",
   "execution_count": null,
<<<<<<< HEAD
   "id": "d0bda9f1",
=======
   "id": "4a25a569",
>>>>>>> bfc022fe9b7cc4f3de1fc0e1f19c9f95fc513125
   "metadata": {},
   "outputs": [],
   "source": [
    "# function to turn the extracted values into a numeric value\n",
    "\n",
    "def parse_dollars(s):\n",
    "    # if s is not a string, return NaN\n",
    "\n",
    "    # if input is of the form $###.# million\n",
    "\n",
    "        # remove dollar sign and \" million\"\n",
    "\n",
    "        # convert to float and multiply by a million\n",
    "\n",
    "        # return value\n",
    "\n",
    "    # if input is of the form $###.# billion\n",
    "\n",
    "        # remove dollar sign and \" billion\"\n",
    "\n",
    "        # convert to float and multiply by a billion\n",
    "\n",
    "        # return value\n",
    "\n",
    "    # if input is of the form $###,###,###\n",
    "\n",
    "        # remove dollar sign and commas\n",
    "\n",
    "        # convert to float\n",
    "\n",
    "        # return value\n",
    "\n",
    "    # otherwise, return NaN\n"
   ]
  },
  {
   "cell_type": "code",
   "execution_count": null,
<<<<<<< HEAD
   "id": "28b1c877",
=======
   "id": "69ae43cd",
>>>>>>> bfc022fe9b7cc4f3de1fc0e1f19c9f95fc513125
   "metadata": {},
   "outputs": [],
   "source": [
    "def parse_dollars(s):\n",
    "    # if s is not a string, return NaN\n",
    "    if type(s) != str:\n",
    "        return np.nan\n",
    "\n",
    "    # if input is of the form $###.# million\n",
    "    if re.match(r'\\$\\s*\\d+\\.?\\d*\\s*milli?on', s, flags=re.IGNORECASE):\n",
    "\n",
    "        # remove dollar sign and \" million\"\n",
    "\n",
    "        # convert to float and multiply by a million\n",
    "\n",
    "        # return value\n",
    "\n",
    "    # if input is of the form $###.# billion\n",
    "    elif re.match(r'\\$\\s*\\d+\\.?\\d*\\s*billi?on', s, flags=re.IGNORECASE):\n",
    "\n",
    "        # remove dollar sign and \" billion\"\n",
    "\n",
    "        # convert to float and multiply by a billion\n",
    "\n",
    "        # return value\n",
    "\n",
    "    # if input is of the form $###,###,###\n",
    "    elif re.match(r'\\$\\s*\\d{1,3}(?:[,\\.]\\d{3})+(?!\\s[mb]illion)', s, flags=re.IGNORECASE):\n",
    "\n",
    "        # remove dollar sign and commas\n",
    "\n",
    "        # convert to float\n",
    "\n",
    "        # return value\n",
    "\n",
    "    # otherwise, return NaN\n",
    "    else:\n",
    "        return np.nan"
   ]
  },
  {
   "cell_type": "code",
   "execution_count": null,
<<<<<<< HEAD
   "id": "feed6055",
=======
   "id": "2a702020",
>>>>>>> bfc022fe9b7cc4f3de1fc0e1f19c9f95fc513125
   "metadata": {},
   "outputs": [],
   "source": [
    "def parse_dollars(s):\n",
    "    # if s is not a string, return NaN\n",
    "    if type(s) != str:\n",
    "        return np.nan\n",
    "\n",
    "    # if input is of the form $###.# million\n",
    "    if re.match(r'\\$\\s*\\d+\\.?\\d*\\s*milli?on', s, flags=re.IGNORECASE):\n",
    "\n",
    "        # remove dollar sign and \" million\"\n",
    "        s = re.sub('\\$|\\s|[a-zA-Z]','', s)\n",
    "\n",
    "        # convert to float and multiply by a million\n",
    "\n",
    "        # return value\n",
    "\n",
    "    # if input is of the form $###.# billion\n",
    "    elif re.match(r'\\$\\s*\\d+\\.?\\d*\\s*billi?on', s, flags=re.IGNORECASE):\n",
    "\n",
    "        # remove dollar sign and \" billion\"\n",
    "        s = re.sub('\\$|\\s|[a-zA-Z]','', s)\n",
    "\n",
    "        # convert to float and multiply by a billion\n",
    "\n",
    "        # return value\n",
    "\n",
    "    # if input is of the form $###,###,###\n",
    "    elif re.match(r'\\$\\s*\\d{1,3}(?:[,\\.]\\d{3})+(?!\\s[mb]illion)', s, flags=re.IGNORECASE):\n",
    "\n",
    "        # remove dollar sign and commas\n",
    "        s = re.sub('\\$|,','', s)\n",
    "\n",
    "        # convert to float\n",
    "\n",
    "        # return value\n",
    "\n",
    "    # otherwise, return NaN\n",
    "    else:\n",
    "        return np.nan\n",
    "    \n"
   ]
  },
  {
   "cell_type": "code",
   "execution_count": null,
<<<<<<< HEAD
   "id": "df4d0676",
=======
   "id": "4988c87d",
>>>>>>> bfc022fe9b7cc4f3de1fc0e1f19c9f95fc513125
   "metadata": {},
   "outputs": [],
   "source": [
    "\n",
    "    \n",
    "#Finally, convert all the strings to floats, multiply by the right amount, and return the value.\n",
    "\n",
    "def parse_dollars(s):\n",
    "    # if s is not a string, return NaN\n",
    "    if type(s) != str:\n",
    "        return np.nan\n",
    "\n",
    "    # if input is of the form $###.# million\n",
    "    if re.match(r'\\$\\s*\\d+\\.?\\d*\\s*milli?on', s, flags=re.IGNORECASE):\n",
    "\n",
    "        # remove dollar sign and \" million\"\n",
    "        s = re.sub('\\$|\\s|[a-zA-Z]','', s)\n",
    "\n",
    "        # convert to float and multiply by a million\n",
    "        value = float(s) * 10**6\n",
    "\n",
    "        # return value\n",
    "        return value\n",
    "\n",
    "    # if input is of the form $###.# billion\n",
    "    elif re.match(r'\\$\\s*\\d+\\.?\\d*\\s*billi?on', s, flags=re.IGNORECASE):\n",
    "\n",
    "        # remove dollar sign and \" billion\"\n",
    "        s = re.sub('\\$|\\s|[a-zA-Z]','', s)\n",
    "\n",
    "        # convert to float and multiply by a billion\n",
    "        value = float(s) * 10**9\n",
    "\n",
    "        # return value\n",
    "        return value\n",
    "\n",
    "    # if input is of the form $###,###,###\n",
    "    elif re.match(r'\\$\\s*\\d{1,3}(?:[,\\.]\\d{3})+(?!\\s[mb]illion)', s, flags=re.IGNORECASE):\n",
    "\n",
    "        # remove dollar sign and commas\n",
    "        s = re.sub('\\$|,','', s)\n",
    "\n",
    "        # convert to float\n",
    "        value = float(s)\n",
    "\n",
    "        # return value\n",
    "        return value\n",
    "\n",
    "    # otherwise, return NaN\n",
    "    else:\n",
    "        return np.nan"
   ]
  },
  {
   "cell_type": "code",
   "execution_count": null,
<<<<<<< HEAD
   "id": "c7270091",
=======
   "id": "d507c1c8",
>>>>>>> bfc022fe9b7cc4f3de1fc0e1f19c9f95fc513125
   "metadata": {},
   "outputs": [],
   "source": [
    "# parse the box office values to numeric values\n",
    "\n",
    "wiki_movies_df['box_office'] = box_office.str.extract(f'({form_one}|{form_two})', flags=re.IGNORECASE)[0].apply(parse_dollars)\n"
   ]
  },
  {
   "cell_type": "code",
   "execution_count": null,
<<<<<<< HEAD
   "id": "29d5bbde",
=======
   "id": "92f75b28",
>>>>>>> bfc022fe9b7cc4f3de1fc0e1f19c9f95fc513125
   "metadata": {},
   "outputs": [],
   "source": [
    "#We no longer need the Box Office column, so we'll just drop it:\n",
    "\n",
    "wiki_movies_df.drop('Box office', axis=1, inplace=True)\n"
   ]
  },
  {
   "cell_type": "code",
   "execution_count": null,
<<<<<<< HEAD
   "id": "c6debc07",
=======
   "id": "e97f8a5b",
>>>>>>> bfc022fe9b7cc4f3de1fc0e1f19c9f95fc513125
   "metadata": {},
   "outputs": [],
   "source": [
    "# budget data\n",
    "budget = wiki_movies_df['Budget'].dropna()\n"
   ]
  },
  {
   "cell_type": "code",
   "execution_count": null,
<<<<<<< HEAD
   "id": "613ae1b4",
=======
   "id": "f25cd083",
>>>>>>> bfc022fe9b7cc4f3de1fc0e1f19c9f95fc513125
   "metadata": {},
   "outputs": [],
   "source": [
    "# Convert any lists to strings\n",
    "\n",
    "budget = budget.map(lambda x: ' '.join(x) if type(x) == list else x)"
   ]
  },
  {
   "cell_type": "code",
   "execution_count": null,
<<<<<<< HEAD
   "id": "d9ece578",
=======
   "id": "01fb02c7",
>>>>>>> bfc022fe9b7cc4f3de1fc0e1f19c9f95fc513125
   "metadata": {},
   "outputs": [],
   "source": [
    "# remove any values between a dollar sign and a hyphen\n",
    "\n",
    "budget = budget.str.replace(r'\\$.*[-—–](?![a-z])', '$', regex=True)\n"
   ]
  },
  {
   "cell_type": "code",
   "execution_count": null,
<<<<<<< HEAD
   "id": "ee34c639",
=======
   "id": "c9429f7e",
>>>>>>> bfc022fe9b7cc4f3de1fc0e1f19c9f95fc513125
   "metadata": {},
   "outputs": [],
   "source": [
    "# parse the box office data\n",
    "\n",
    "matches_form_one = budget.str.contains(form_one, flags=re.IGNORECASE, na=False)\n",
    "matches_form_two = budget.str.contains(form_two, flags=re.IGNORECASE, na=False)\n",
    "budget[~matches_form_one & ~matches_form_two]"
   ]
  },
  {
   "cell_type": "code",
   "execution_count": null,
<<<<<<< HEAD
   "id": "cfa62623",
=======
   "id": "160a5968",
>>>>>>> bfc022fe9b7cc4f3de1fc0e1f19c9f95fc513125
   "metadata": {},
   "outputs": [],
   "source": [
    "budget = budget.str.replace(r'\\[\\d+\\]\\s*', '')\n",
    "budget[~matches_form_one & ~matches_form_two]"
   ]
  },
  {
   "cell_type": "code",
   "execution_count": null,
<<<<<<< HEAD
   "id": "6a4c8836",
=======
   "id": "a53c80b1",
>>>>>>> bfc022fe9b7cc4f3de1fc0e1f19c9f95fc513125
   "metadata": {},
   "outputs": [],
   "source": [
    "wiki_movies_df['budget'] = budget.str.extract(f'({form_one}|{form_two})', flags=re.IGNORECASE)[0].apply(parse_dollars)"
   ]
  },
  {
   "cell_type": "code",
   "execution_count": null,
<<<<<<< HEAD
   "id": "54e3770e",
=======
   "id": "1f7ec7bf",
>>>>>>> bfc022fe9b7cc4f3de1fc0e1f19c9f95fc513125
   "metadata": {},
   "outputs": [],
   "source": [
    "wiki_movies_df.drop('Budget', axis=1, inplace=True)"
   ]
  },
  {
   "cell_type": "code",
   "execution_count": null,
<<<<<<< HEAD
   "id": "f4a36a38",
=======
   "id": "2661d6dc",
>>>>>>> bfc022fe9b7cc4f3de1fc0e1f19c9f95fc513125
   "metadata": {},
   "outputs": [],
   "source": [
    "release_date = wiki_movies_df['Release date'].dropna().apply(lambda x: ' '.join(x) if type(x) == list else x)"
   ]
  },
  {
   "cell_type": "code",
   "execution_count": null,
<<<<<<< HEAD
   "id": "75aef068",
=======
   "id": "6b6052bf",
>>>>>>> bfc022fe9b7cc4f3de1fc0e1f19c9f95fc513125
   "metadata": {},
   "outputs": [],
   "source": [
    "# parse forms\n",
    "\n",
    "date_form_one = r'(?:January|February|March|April|May|June|July|August|September|October|November|December)\\s[123]?\\d,\\s\\d{4}'\n",
    "date_form_two = r'\\d{4}.[01]\\d.[0123]\\d'\n",
    "date_form_three = r'(?:January|February|March|April|May|June|July|August|September|October|November|December)\\s\\d{4}'\n",
    "date_form_four = r'\\d{4}'\n",
    "\n"
   ]
  },
  {
   "cell_type": "code",
   "execution_count": null,
<<<<<<< HEAD
   "id": "ea89be50",
=======
   "id": "1f6f07e2",
>>>>>>> bfc022fe9b7cc4f3de1fc0e1f19c9f95fc513125
   "metadata": {},
   "outputs": [],
   "source": [
    "# extract the dates \n",
    "\n",
    "release_date.str.extract(f'({date_form_one}|{date_form_two}|{date_form_three}|{date_form_four})', flags=re.IGNORECASE)\n",
    "\n"
   ]
  },
  {
   "cell_type": "code",
   "execution_count": null,
<<<<<<< HEAD
   "id": "ac6a9bae",
=======
   "id": "94778344",
>>>>>>> bfc022fe9b7cc4f3de1fc0e1f19c9f95fc513125
   "metadata": {},
   "outputs": [],
   "source": [
    "wiki_movies_df['release_date'] = pd.to_datetime(release_date.str.extract(f'({date_form_one}|{date_form_two}|{date_form_three}|{date_form_four})')[0], infer_datetime_format=True)"
   ]
  },
  {
   "cell_type": "code",
   "execution_count": null,
<<<<<<< HEAD
   "id": "79ea2b1a",
=======
   "id": "59b5c8ce",
>>>>>>> bfc022fe9b7cc4f3de1fc0e1f19c9f95fc513125
   "metadata": {},
   "outputs": [],
   "source": [
    "running_time = wiki_movies_df['Running time'].dropna().apply(lambda x: ' '.join(x) if type(x) == list else x)"
   ]
  },
  {
   "cell_type": "code",
   "execution_count": null,
<<<<<<< HEAD
   "id": "1f9bddae",
=======
   "id": "a1071646",
>>>>>>> bfc022fe9b7cc4f3de1fc0e1f19c9f95fc513125
   "metadata": {},
   "outputs": [],
   "source": [
    "running_time.str.contains(r'^\\d*\\s*minutes$', flags=re.IGNORECASE, na=False).sum()"
   ]
  },
  {
   "cell_type": "code",
   "execution_count": null,
<<<<<<< HEAD
   "id": "2f270831",
=======
   "id": "c5c81c29",
>>>>>>> bfc022fe9b7cc4f3de1fc0e1f19c9f95fc513125
   "metadata": {},
   "outputs": [],
   "source": [
    "running_time[running_time.str.contains(r'^\\d*\\s*minutes$', flags=re.IGNORECASE, na=False) != True]"
   ]
  },
  {
   "cell_type": "code",
   "execution_count": null,
<<<<<<< HEAD
   "id": "814f9f4e",
=======
   "id": "ceab66a4",
>>>>>>> bfc022fe9b7cc4f3de1fc0e1f19c9f95fc513125
   "metadata": {},
   "outputs": [],
   "source": [
    "# marking the beginning of the string\n",
    "\n",
    "running_time.str.contains(r'^\\d*\\s*m', flags=re.IGNORECASE, na=False).sum()"
   ]
  },
  {
   "cell_type": "code",
   "execution_count": null,
<<<<<<< HEAD
   "id": "edfac5c7",
=======
   "id": "866ce373",
>>>>>>> bfc022fe9b7cc4f3de1fc0e1f19c9f95fc513125
   "metadata": {},
   "outputs": [],
   "source": [
    "running_time[running_time.str.contains(r'^\\d*\\s*m', flags=re.IGNORECASE, na=False) != True]"
   ]
  },
  {
   "cell_type": "code",
   "execution_count": null,
<<<<<<< HEAD
   "id": "4812498f",
=======
   "id": "a5f09795",
>>>>>>> bfc022fe9b7cc4f3de1fc0e1f19c9f95fc513125
   "metadata": {},
   "outputs": [],
   "source": [
    "running_time_extract = running_time.str.extract(r'(\\d+)\\s*ho?u?r?s?\\s*(\\d*)|(\\d+)\\s*m')"
   ]
  },
  {
   "cell_type": "code",
   "execution_count": null,
<<<<<<< HEAD
   "id": "0246a642",
=======
   "id": "83d5deef",
>>>>>>> bfc022fe9b7cc4f3de1fc0e1f19c9f95fc513125
   "metadata": {},
   "outputs": [],
   "source": [
    "wiki_movies_df['running_time'] = running_time_extract.apply(lambda row: row[0]*60 + row[1] if row[2] == 0 else row[2], axis=1)"
   ]
  },
  {
   "cell_type": "code",
   "execution_count": null,
<<<<<<< HEAD
   "id": "ad4440a9",
=======
   "id": "1f7a8ba6",
>>>>>>> bfc022fe9b7cc4f3de1fc0e1f19c9f95fc513125
   "metadata": {},
   "outputs": [],
   "source": [
    "wiki_movies_df.drop('Running time', axis=1, inplace=True)"
   ]
  },
  {
   "cell_type": "code",
   "execution_count": null,
<<<<<<< HEAD
   "id": "c7983317",
=======
   "id": "356af129",
>>>>>>> bfc022fe9b7cc4f3de1fc0e1f19c9f95fc513125
   "metadata": {},
   "outputs": [],
   "source": [
    "# pull the kaggle data\n",
    "\n",
    "kaggle_metadata.dtypes\n"
   ]
  },
  {
   "cell_type": "code",
   "execution_count": null,
<<<<<<< HEAD
   "id": "4a8d375c",
=======
   "id": "31cdd471",
>>>>>>> bfc022fe9b7cc4f3de1fc0e1f19c9f95fc513125
   "metadata": {},
   "outputs": [],
   "source": [
    "# remove the bad data\n",
    "\n",
    "\n",
    "kaggle_metadata[~kaggle_metadata['adult'].isin(['True','False'])]\n"
   ]
  },
  {
   "cell_type": "code",
   "execution_count": null,
<<<<<<< HEAD
   "id": "73f3a292",
=======
   "id": "29dfaa78",
>>>>>>> bfc022fe9b7cc4f3de1fc0e1f19c9f95fc513125
   "metadata": {},
   "outputs": [],
   "source": [
    "# look at the values of the video column\n",
    "\n",
    "kaggle_metadata['video'].value_counts()\n"
   ]
  },
  {
   "cell_type": "code",
   "execution_count": null,
<<<<<<< HEAD
   "id": "e58158b5",
=======
   "id": "3157b028",
>>>>>>> bfc022fe9b7cc4f3de1fc0e1f19c9f95fc513125
   "metadata": {},
   "outputs": [],
   "source": [
    "kaggle_metadata['video'] == 'True'"
   ]
  },
  {
   "cell_type": "code",
   "execution_count": null,
<<<<<<< HEAD
   "id": "1d8ef88a",
=======
   "id": "039efb5a",
>>>>>>> bfc022fe9b7cc4f3de1fc0e1f19c9f95fc513125
   "metadata": {},
   "outputs": [],
   "source": [
    "kaggle_metadata['video'] = kaggle_metadata['video'] == 'True'"
   ]
  },
  {
   "cell_type": "code",
   "execution_count": null,
<<<<<<< HEAD
   "id": "4480ddcd",
=======
   "id": "bb8027ec",
>>>>>>> bfc022fe9b7cc4f3de1fc0e1f19c9f95fc513125
   "metadata": {},
   "outputs": [],
   "source": [
    "kaggle_metadata['budget'] = kaggle_metadata['budget'].astype(int)\n",
    "kaggle_metadata['id'] = pd.to_numeric(kaggle_metadata['id'], errors='raise')\n",
    "kaggle_metadata['popularity'] = pd.to_numeric(kaggle_metadata['popularity'], errors='raise')"
   ]
  },
  {
   "cell_type": "code",
   "execution_count": null,
<<<<<<< HEAD
   "id": "9520efea",
=======
   "id": "ac9724ef",
>>>>>>> bfc022fe9b7cc4f3de1fc0e1f19c9f95fc513125
   "metadata": {},
   "outputs": [],
   "source": [
    "kaggle_metadata['release_date'] = pd.to_datetime(kaggle_metadata['release_date'])"
   ]
  },
  {
   "cell_type": "code",
   "execution_count": null,
<<<<<<< HEAD
   "id": "ea19b9d8",
=======
   "id": "4f9999c7",
>>>>>>> bfc022fe9b7cc4f3de1fc0e1f19c9f95fc513125
   "metadata": {},
   "outputs": [],
   "source": [
    "ratings.info(null_counts=True)"
   ]
  },
  {
   "cell_type": "code",
   "execution_count": null,
<<<<<<< HEAD
   "id": "d8af5e47",
=======
   "id": "0389c41f",
>>>>>>> bfc022fe9b7cc4f3de1fc0e1f19c9f95fc513125
   "metadata": {},
   "outputs": [],
   "source": [
    "# specify in to_datetime() that the origin is 'unix' and the time unit is seconds\n",
    "\n",
    "pd.to_datetime(ratings['timestamp'], unit='s')\n"
   ]
  },
  {
   "cell_type": "code",
   "execution_count": null,
<<<<<<< HEAD
   "id": "9b9a9439",
=======
   "id": "38c8cb76",
>>>>>>> bfc022fe9b7cc4f3de1fc0e1f19c9f95fc513125
   "metadata": {},
   "outputs": [],
   "source": [
    "ratings['timestamp'] = pd.to_datetime(ratings['timestamp'], unit='s')"
   ]
  },
  {
   "cell_type": "code",
   "execution_count": null,
<<<<<<< HEAD
   "id": "c17d424e",
=======
   "id": "0a8570ae",
>>>>>>> bfc022fe9b7cc4f3de1fc0e1f19c9f95fc513125
   "metadata": {},
   "outputs": [],
   "source": [
    "pd.options.display.float_format = '{:20,.2f}'.format\n",
    "ratings['rating'].plot(kind='hist')\n",
    "ratings['rating'].describe()"
   ]
  },
  {
   "cell_type": "code",
   "execution_count": null,
<<<<<<< HEAD
   "id": "3aab6514",
=======
   "id": "6be3c28a",
>>>>>>> bfc022fe9b7cc4f3de1fc0e1f19c9f95fc513125
   "metadata": {},
   "outputs": [],
   "source": [
    "movies_df = pd.merge(wiki_movies_df, kaggle_metadata, on='imdb_id', suffixes=['_wiki','_kaggle'])"
   ]
  },
  {
   "cell_type": "code",
   "execution_count": null,
<<<<<<< HEAD
   "id": "115c88ae",
=======
   "id": "ae62f175",
>>>>>>> bfc022fe9b7cc4f3de1fc0e1f19c9f95fc513125
   "metadata": {},
   "outputs": [],
   "source": [
    "# look at the tittles\n",
    "movies_df[['title_wiki','title_kaggle']]"
   ]
  },
  {
   "cell_type": "code",
   "execution_count": null,
<<<<<<< HEAD
   "id": "54b42af5",
=======
   "id": "e1f579c0",
>>>>>>> bfc022fe9b7cc4f3de1fc0e1f19c9f95fc513125
   "metadata": {},
   "outputs": [],
   "source": [
    "# Show any rows where title_kaggle is empty\n",
    "movies_df[(movies_df['title_kaggle'] == '') | (movies_df['title_kaggle'].isnull())]"
   ]
  },
  {
   "cell_type": "code",
   "execution_count": null,
<<<<<<< HEAD
   "id": "44e94fee",
=======
   "id": "53562efc",
>>>>>>> bfc022fe9b7cc4f3de1fc0e1f19c9f95fc513125
   "metadata": {},
   "outputs": [],
   "source": [
    "# code will fill in missing values with zero\n",
    "movies_df.fillna(0).plot(x='running_time', y='runtime', kind='scatter')\n"
   ]
  },
  {
   "cell_type": "code",
   "execution_count": null,
<<<<<<< HEAD
   "id": "21096769",
=======
   "id": "0521deaa",
>>>>>>> bfc022fe9b7cc4f3de1fc0e1f19c9f95fc513125
   "metadata": {},
   "outputs": [],
   "source": [
    "# make scatter plot to compare budget_wiki and budget_kaggle\n",
    "\n",
    "movies_df.fillna(0).plot(x='budget_wiki',y='budget_kaggle', kind='scatter')\n"
   ]
  },
  {
   "cell_type": "code",
   "execution_count": null,
<<<<<<< HEAD
   "id": "9339b601",
=======
   "id": "44535179",
>>>>>>> bfc022fe9b7cc4f3de1fc0e1f19c9f95fc513125
   "metadata": {},
   "outputs": [],
   "source": [
    "movies_df.fillna(0).plot(x='box_office', y='revenue', kind='scatter')\n"
   ]
  },
  {
   "cell_type": "code",
   "execution_count": null,
<<<<<<< HEAD
   "id": "6463878c",
=======
   "id": "ca8bca78",
>>>>>>> bfc022fe9b7cc4f3de1fc0e1f19c9f95fc513125
   "metadata": {},
   "outputs": [],
   "source": [
    "movies_df.fillna(0)[movies_df['box_office'] < 10**9].plot(x='box_office', y='revenue', kind='scatter')"
   ]
  },
  {
   "cell_type": "code",
   "execution_count": null,
<<<<<<< HEAD
   "id": "80e52be1",
=======
   "id": "52e8743f",
>>>>>>> bfc022fe9b7cc4f3de1fc0e1f19c9f95fc513125
   "metadata": {},
   "outputs": [],
   "source": [
    "movies_df[['release_date_wiki','release_date_kaggle']].plot(x='release_date_wiki', y='release_date_kaggle', style='.')\n"
   ]
  },
  {
   "cell_type": "code",
   "execution_count": null,
<<<<<<< HEAD
   "id": "2fb7ac31",
=======
   "id": "e94698ca",
>>>>>>> bfc022fe9b7cc4f3de1fc0e1f19c9f95fc513125
   "metadata": {},
   "outputs": [],
   "source": [
    "movies_df[(movies_df['release_date_wiki'] > '1996-01-01') & (movies_df['release_date_kaggle'] < '1965-01-01')]"
   ]
  },
  {
   "cell_type": "code",
   "execution_count": null,
<<<<<<< HEAD
   "id": "e4f2ae1b",
=======
   "id": "e9a5979c",
>>>>>>> bfc022fe9b7cc4f3de1fc0e1f19c9f95fc513125
   "metadata": {},
   "outputs": [],
   "source": [
    "movies_df[(movies_df['release_date_wiki'] > '1996-01-01') & (movies_df['release_date_kaggle'] < '1965-01-01')].index"
   ]
  },
  {
   "cell_type": "code",
   "execution_count": null,
<<<<<<< HEAD
   "id": "2e515de4",
=======
   "id": "5ff610a0",
>>>>>>> bfc022fe9b7cc4f3de1fc0e1f19c9f95fc513125
   "metadata": {},
   "outputs": [],
   "source": [
    "movies_df = movies_df.drop(movies_df[(movies_df['release_date_wiki'] > '1996-01-01') & (movies_df['release_date_kaggle'] < '1965-01-01')].index)"
   ]
  },
  {
   "cell_type": "code",
   "execution_count": null,
<<<<<<< HEAD
   "id": "a44b0306",
=======
   "id": "2274ffcb",
>>>>>>> bfc022fe9b7cc4f3de1fc0e1f19c9f95fc513125
   "metadata": {},
   "outputs": [],
   "source": [
    "movies_df[movies_df['release_date_wiki'].isnull()]"
   ]
  },
  {
   "cell_type": "code",
   "execution_count": null,
<<<<<<< HEAD
   "id": "2ef3d1ee",
=======
   "id": "0bde1355",
>>>>>>> bfc022fe9b7cc4f3de1fc0e1f19c9f95fc513125
   "metadata": {},
   "outputs": [],
   "source": [
    "movies_df['Language'].apply(lambda x: tuple(x) if type(x) == list else x).value_counts(dropna=False)"
   ]
  },
  {
   "cell_type": "code",
   "execution_count": null,
<<<<<<< HEAD
   "id": "75fd3240",
=======
   "id": "abc74b47",
>>>>>>> bfc022fe9b7cc4f3de1fc0e1f19c9f95fc513125
   "metadata": {},
   "outputs": [],
   "source": [
    "movies_df['original_language'].value_counts(dropna=False)"
   ]
  },
  {
   "cell_type": "code",
   "execution_count": null,
<<<<<<< HEAD
   "id": "f4acb7dc",
=======
   "id": "566a6854",
>>>>>>> bfc022fe9b7cc4f3de1fc0e1f19c9f95fc513125
   "metadata": {},
   "outputs": [],
   "source": [
    "movies_df[['Production company(s)','production_companies']]"
   ]
  },
  {
   "cell_type": "code",
   "execution_count": null,
<<<<<<< HEAD
   "id": "9b3fb161",
=======
   "id": "6a963f34",
>>>>>>> bfc022fe9b7cc4f3de1fc0e1f19c9f95fc513125
   "metadata": {},
   "outputs": [],
   "source": [
    "movies_df.drop(columns=['title_wiki','release_date_wiki','Language','Production company(s)'], inplace=True)"
   ]
  },
  {
   "cell_type": "code",
   "execution_count": null,
<<<<<<< HEAD
   "id": "7a699575",
=======
   "id": "f794860a",
>>>>>>> bfc022fe9b7cc4f3de1fc0e1f19c9f95fc513125
   "metadata": {},
   "outputs": [],
   "source": [
    "def fill_missing_kaggle_data(df, kaggle_column, wiki_column):\n",
    "    df[kaggle_column] = df.apply(\n",
    "        lambda row: row[wiki_column] if row[kaggle_column] == 0 else row[kaggle_column]\n",
    "        , axis=1)\n",
    "    df.drop(columns=wiki_column, inplace=True)\n",
    "    \n",
    "fill_missing_kaggle_data(movies_df, 'runtime', 'running_time')\n",
    "fill_missing_kaggle_data(movies_df, 'budget_kaggle', 'budget_wiki')\n",
    "fill_missing_kaggle_data(movies_df, 'revenue', 'box_office')\n",
    "movies_df\n",
    "\n",
    "for col in movies_df.columns:\n",
    "    lists_to_tuples = lambda x: tuple(x) if type(x) == list else x\n",
    "    value_counts = movies_df[col].apply(lists_to_tuples).value_counts(dropna=False)\n",
    "    num_values = len(value_counts)\n",
    "    if num_values == 1:\n",
    "        print(col)"
   ]
  },
  {
   "cell_type": "code",
   "execution_count": null,
<<<<<<< HEAD
   "id": "8ca374f5",
=======
   "id": "7faa78a4",
>>>>>>> bfc022fe9b7cc4f3de1fc0e1f19c9f95fc513125
   "metadata": {},
   "outputs": [],
   "source": [
    "movies_df['video'].value_counts(dropna=False)"
   ]
  },
  {
   "cell_type": "code",
   "execution_count": null,
<<<<<<< HEAD
   "id": "d4188e86",
=======
   "id": "c3b44864",
>>>>>>> bfc022fe9b7cc4f3de1fc0e1f19c9f95fc513125
   "metadata": {},
   "outputs": [],
   "source": [
    "# reorder the columns\n",
    "\n",
    "movies_df = movies_df.loc[:, ['imdb_id','id','title_kaggle','original_title','tagline','belongs_to_collection','url','imdb_link',\n",
    "                       'runtime','budget_kaggle','revenue','release_date_kaggle','popularity','vote_average','vote_count',\n",
    "                       'genres','original_language','overview','spoken_languages','Country',\n",
    "                       'production_companies','production_countries','Distributor',\n",
    "                       'Producer(s)','Director','Starring','Cinematography','Editor(s)','Writer(s)','Composer(s)','Based on'\n",
    "                      ]]"
   ]
  },
  {
   "cell_type": "code",
   "execution_count": null,
<<<<<<< HEAD
   "id": "70a11ff7",
=======
   "id": "91d04c01",
>>>>>>> bfc022fe9b7cc4f3de1fc0e1f19c9f95fc513125
   "metadata": {},
   "outputs": [],
   "source": [
    "movies_df.rename({'id':'kaggle_id',\n",
    "                  'title_kaggle':'title',\n",
    "                  'url':'wikipedia_url',\n",
    "                  'budget_kaggle':'budget',\n",
    "                  'release_date_kaggle':'release_date',\n",
    "                  'Country':'country',\n",
    "                  'Distributor':'distributor',\n",
    "                  'Producer(s)':'producers',\n",
    "                  'Director':'director',\n",
    "                  'Starring':'starring',\n",
    "                  'Cinematography':'cinematography',\n",
    "                  'Editor(s)':'editors',\n",
    "                  'Writer(s)':'writers',\n",
    "                  'Composer(s)':'composers',\n",
    "                  'Based on':'based_on'\n",
    "                 }, axis='columns', inplace=True)"
   ]
  },
  {
   "cell_type": "code",
   "execution_count": null,
<<<<<<< HEAD
   "id": "77d5ebd9",
   "metadata": {},
   "outputs": [],
   "source": [
    "rating_counts = ratings.groupby(['movieId','rating'], as_index=False).count()"
   ]
  },
  {
   "cell_type": "code",
   "execution_count": null,
   "id": "4261d35a",
   "metadata": {},
   "outputs": [],
   "source": [
    "# rename the \"userId\" column to \"count.\"\n",
    "\n",
    "rating_counts = ratings.groupby(['movieId','rating'], as_index=False).count() \\\n",
    "                .rename({'userId':'count'}, axis=1)\n",
    "\n"
   ]
  },
  {
   "cell_type": "code",
   "execution_count": null,
   "id": "572db8c2",
   "metadata": {},
   "outputs": [],
   "source": [
    "rating_counts = ratings.groupby(['movieId','rating'], as_index=False).count() \\\n",
    "                .rename({'userId':'count'}, axis=1) \\\n",
    "                .pivot(index='movieId',columns='rating', values='count')"
   ]
  },
  {
   "cell_type": "code",
   "execution_count": null,
   "id": "2724d888",
   "metadata": {},
   "outputs": [],
   "source": [
    "rating_counts.columns = ['rating_' + str(col) for col in rating_counts.columns]"
   ]
  },
  {
   "cell_type": "code",
   "execution_count": null,
   "id": "48f4d64d",
   "metadata": {},
   "outputs": [],
   "source": [
    "movies_with_ratings_df = pd.merge(movies_df, rating_counts, left_on='kaggle_id', right_index=True, how='left')"
   ]
  },
  {
   "cell_type": "code",
   "execution_count": null,
   "id": "e8fcf5c1",
   "metadata": {},
   "outputs": [],
   "source": [
    "movies_with_ratings_df[rating_counts.columns] = movies_with_ratings_df[rating_counts.columns].fillna(0)"
   ]
  },
  {
   "cell_type": "code",
   "execution_count": null,
   "id": "2dfa36f3",
=======
   "id": "5458e39a",
>>>>>>> bfc022fe9b7cc4f3de1fc0e1f19c9f95fc513125
   "metadata": {},
   "outputs": [],
   "source": []
  },
  {
   "cell_type": "code",
   "execution_count": null,
<<<<<<< HEAD
   "id": "d6760dfb",
=======
   "id": "6e603687",
>>>>>>> bfc022fe9b7cc4f3de1fc0e1f19c9f95fc513125
   "metadata": {},
   "outputs": [],
   "source": []
  },
  {
   "cell_type": "code",
   "execution_count": null,
<<<<<<< HEAD
   "id": "568e47bf",
=======
   "id": "93a64312",
>>>>>>> bfc022fe9b7cc4f3de1fc0e1f19c9f95fc513125
   "metadata": {},
   "outputs": [],
   "source": []
  },
  {
   "cell_type": "code",
   "execution_count": null,
<<<<<<< HEAD
   "id": "ef2eebad",
=======
   "id": "ef5cc80a",
>>>>>>> bfc022fe9b7cc4f3de1fc0e1f19c9f95fc513125
   "metadata": {},
   "outputs": [],
   "source": []
  },
  {
   "cell_type": "code",
   "execution_count": null,
<<<<<<< HEAD
   "id": "ef650e88",
=======
   "id": "29e28339",
   "metadata": {},
   "outputs": [],
   "source": []
  },
  {
   "cell_type": "code",
   "execution_count": null,
   "id": "2d05b8b9",
>>>>>>> bfc022fe9b7cc4f3de1fc0e1f19c9f95fc513125
   "metadata": {},
   "outputs": [],
   "source": []
  }
 ],
 "metadata": {
  "kernelspec": {
   "display_name": "Python 3 (ipykernel)",
   "language": "python",
   "name": "python3"
  },
  "language_info": {
   "codemirror_mode": {
    "name": "ipython",
    "version": 3
   },
   "file_extension": ".py",
   "mimetype": "text/x-python",
   "name": "python",
   "nbconvert_exporter": "python",
   "pygments_lexer": "ipython3",
   "version": "3.7.11"
  }
 },
 "nbformat": 4,
 "nbformat_minor": 5
}
