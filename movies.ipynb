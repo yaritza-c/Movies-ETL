{
 "cells": [
  {
   "cell_type": "code",
   "execution_count": null,
   "id": "98384b55",
   "metadata": {},
   "outputs": [],
   "source": [
    "import json\n",
    "import pandas as pd\n",
    "import numpy as np"
   ]
  },
  {
   "cell_type": "code",
   "execution_count": null,
   "id": "68e6d3d5",
   "metadata": {},
   "outputs": [],
   "source": [
    "file_dir = '..\\Movies-ETL\\wikipedia-movies.json'\n"
   ]
  },
  {
   "cell_type": "code",
   "execution_count": null,
   "id": "c27f8d69",
   "metadata": {},
   "outputs": [],
   "source": [
    "f'{file_dir}wikipedia-movies'\n"
   ]
  },
  {
   "cell_type": "code",
   "execution_count": null,
   "id": "7b4669ad",
   "metadata": {},
   "outputs": [],
   "source": [
    "#open the Wikipedia JSON file to be read into the variable file, and use json.\n",
    "#load() to save the data to a new variable.\n",
    "\n",
    "with open(f'{file_dir}/wikipedia-movies.json', mode='r') as file:\n",
    "    wiki_movies_raw = json.load(file)\n",
    "    "
   ]
  },
  {
   "cell_type": "code",
   "execution_count": null,
   "id": "30433cd6",
   "metadata": {},
   "outputs": [],
   "source": [
    "# check how many records were pulled in\n",
    "len(wiki_movies_raw)"
   ]
  },
  {
   "cell_type": "code",
   "execution_count": null,
   "id": "12e80e9c",
   "metadata": {},
   "outputs": [],
   "source": [
    "# see first 5 records\n",
    "wiki_movies_raw[:5]"
   ]
  },
  {
   "cell_type": "code",
   "execution_count": null,
   "id": "da695b79",
   "metadata": {},
   "outputs": [],
   "source": [
    "# Some records in the middle\n",
    "wiki_movies_raw[3600:3605]"
   ]
  },
  {
   "cell_type": "code",
   "execution_count": null,
   "id": "9e7cc562",
   "metadata": {},
   "outputs": [],
   "source": [
    "# download file\n",
    "kaggle_metadata = pd.read_csv(f'{file_dir}movies_metadata.csv', low_memory=False)\n",
    "ratings = pd.read_csv(f'{file_dir}ratings.csv')"
   ]
  },
  {
   "cell_type": "code",
   "execution_count": null,
   "id": "76146776",
   "metadata": {},
   "outputs": [],
   "source": [
    "kaggle_metada(head)\n",
    "ratings(head)"
   ]
  },
  {
   "cell_type": "code",
   "execution_count": null,
   "id": "b19f1ad6",
   "metadata": {},
   "outputs": [],
   "source": [
    "#will show five random rows from the dataset\n",
    "\n",
    "df.sample(n=5)"
   ]
  },
  {
   "cell_type": "code",
   "execution_count": null,
   "id": "3b14377a",
   "metadata": {},
   "outputs": [],
   "source": [
    "wiki_movies_df = pd.DataFrame(wiki_movies_raw)\n"
   ]
  },
  {
   "cell_type": "code",
   "execution_count": null,
   "id": "066c9bb7",
   "metadata": {},
   "outputs": [],
   "source": [
    "wiki_movies_df.head()\n",
    "#print(wiki_movies_df.columns)"
   ]
  },
  {
   "cell_type": "code",
   "execution_count": null,
   "id": "cfbc1a67",
   "metadata": {},
   "outputs": [],
   "source": [
    "wiki_movies_df.columns.tolist()"
   ]
  },
  {
   "cell_type": "code",
   "execution_count": null,
   "id": "e56a9cc0",
   "metadata": {},
   "outputs": [],
   "source": [
    "#List Comprehensions to Filter Data\n",
    "\n",
    "#compress code\n",
    "[expression for element in source_list]\n",
    "\n",
    "#filter out results using a conditional filter expression\n",
    "[expression for element in source_list if filter_expression]\n"
   ]
  },
  {
   "cell_type": "code",
   "execution_count": null,
   "id": "32c3270b",
   "metadata": {},
   "outputs": [],
   "source": [
    "# filter expression for only movies with a director and an IMDb link\n",
    "\n",
    "if ('Director' in movie or 'Directed by' in movie) and 'imdb_link' in movie\n"
   ]
  },
  {
   "cell_type": "code",
   "execution_count": null,
   "id": "e63a18c1",
   "metadata": {},
   "outputs": [],
   "source": [
    "#See how many movies are in wiki_movies with the len() function.\n",
    "\n",
    "\n",
    "wiki_movies = [movie for movie in wiki_movies_raw\n",
    "               if ('Director' in movie or 'Directed by' in movie)\n",
    "                   and 'imdb_link' in movie]\n",
    "len(wiki_movies)\n",
    "\n"
   ]
  },
  {
   "cell_type": "code",
   "execution_count": null,
   "id": "a0a396a7",
   "metadata": {},
   "outputs": [],
   "source": [
    "# remove tv shows. only include movie data\n",
    "\n",
    "wiki_movies = [movie for movie in wiki_movies_raw\n",
    "               if ('Director' in movie or 'Directed by' in movie)\n",
    "                   and 'imdb_link' in movie\n",
    "                   and 'No. of episodes' not in movie]"
   ]
  },
  {
   "cell_type": "code",
   "execution_count": null,
   "id": "76d0ac38",
   "metadata": {},
   "outputs": [],
   "source": [
    "x = 'global value'\n",
    "\n",
    "def foo():\n",
    "    x = 'local value'\n",
    "    print(x)\n",
    "\n",
    "foo()\n",
    "print(x)"
   ]
  },
  {
   "cell_type": "code",
   "execution_count": null,
   "id": "1cc05d1a",
   "metadata": {},
   "outputs": [],
   "source": [
    "my_list = [1,2,3]\n",
    "def append_four(x):\n",
    "    x.append(4)\n",
    "append_four(my_list)\n",
    "print(my_list)"
   ]
  },
  {
   "cell_type": "code",
   "execution_count": null,
   "id": "0c15fea9",
   "metadata": {},
   "outputs": [],
   "source": [
    "new_list = list(old_list)\n",
    "new_dict = dict(old_dict)"
   ]
  },
  {
   "cell_type": "code",
   "execution_count": null,
   "id": "d5aae167",
   "metadata": {},
   "outputs": [],
   "source": [
    "square = lambda x: x * x\n",
    "square(5)"
   ]
  },
  {
   "cell_type": "code",
   "execution_count": null,
   "id": "be3b7acd",
   "metadata": {},
   "outputs": [],
   "source": [
    "# clean data\n",
    "def clean_movie(movie):\n",
    "    movie = dict(movie) #create a non-destructive copy\n",
    "    return movie"
   ]
  },
  {
   "cell_type": "code",
   "execution_count": null,
   "id": "5e0683df",
   "metadata": {},
   "outputs": [],
   "source": [
    "wiki_movies_df[wiki_movies_df['Arabic'].notnull()]"
   ]
  },
  {
   "cell_type": "code",
   "execution_count": null,
   "id": "dc0f3f59",
   "metadata": {},
   "outputs": [],
   "source": [
    "wiki_movies_df[wiki_movies_df['Arabic'].notnull()]['url']"
   ]
  },
  {
   "cell_type": "code",
   "execution_count": null,
   "id": "24fd6126",
   "metadata": {},
   "outputs": [],
   "source": [
    "# display columns in alphabetical order\n",
    "\n",
    "sorted(wiki_movies_df.columns.tolist())"
   ]
  },
  {
   "cell_type": "code",
   "execution_count": null,
   "id": "7ce4c9ab",
   "metadata": {},
   "outputs": [],
   "source": [
    "# Make an empty dict to hold all of the alternative titles.\n",
    "\n",
    "def clean_movie(movie):\n",
    "    movie = dict(movie) #create a non-destructive copy\n",
    "    alt_titles = {}\n",
    "    return movie\n"
   ]
  },
  {
   "cell_type": "code",
   "execution_count": null,
   "id": "14aeec0b",
   "metadata": {},
   "outputs": [],
   "source": [
    "# Loop through a list of all alternative title keys.\n",
    "\n",
    "def clean_movie(movie):\n",
    "    movie = dict(movie) #create a non-destructive copy\n",
    "    alt_titles = {}\n",
    "    for key in ['Also known as','Arabic','Cantonese','Chinese','French',\n",
    "                'Hangul','Hebrew','Hepburn','Japanese','Literally',\n",
    "                'Mandarin','McCune–Reischauer','Original title','Polish',\n",
    "                'Revised Romanization','Romanized','Russian',\n",
    "                'Simplified','Traditional','Yiddish']:\n",
    "        #Check if the current key exists in the movie object.\n",
    "        if key in movie:\n",
    "        # If so, remove the key-value pair and add to the alternative titles dictionary.\n",
    "            alt_titles[key] = movie[key]\n",
    "            movie.pop(key)\n",
    "    #fter looping through every key, add the alternative titles dict to the movie object.\n",
    "    if len(alt_titles) > 0:\n",
    "        movie['alt_titles'] = alt_titles\n",
    "\n",
    "    return movie"
   ]
  },
  {
   "cell_type": "code",
   "execution_count": null,
   "id": "0371e48c",
   "metadata": {},
   "outputs": [],
   "source": [
    "#We can make a list of cleaned movies with a list comprehension:\n",
    "\n",
    "clean_movies = [clean_movie(movie) for movie in wiki_movies]"
   ]
  },
  {
   "cell_type": "code",
   "execution_count": null,
   "id": "bf36b426",
   "metadata": {},
   "outputs": [],
   "source": [
    "# Set wiki_movies_df to be the DataFrame created from clean_movies, and print out a list of the columns.\n",
    "\n",
    "wiki_movies_df = pd.DataFrame(clean_movies)\n",
    "sorted(wiki_movies_df.columns.tolist())"
   ]
  },
  {
   "cell_type": "code",
   "execution_count": null,
   "id": "752d774f",
   "metadata": {},
   "outputs": [],
   "source": []
  },
  {
   "cell_type": "code",
   "execution_count": null,
   "id": "3dc510a8",
   "metadata": {},
   "outputs": [],
   "source": []
  },
  {
   "cell_type": "code",
   "execution_count": null,
   "id": "b20b710f",
   "metadata": {},
   "outputs": [],
   "source": []
  },
  {
   "cell_type": "code",
   "execution_count": null,
   "id": "33de7785",
   "metadata": {},
   "outputs": [],
   "source": []
  },
  {
   "cell_type": "code",
   "execution_count": null,
   "id": "b12894a3",
   "metadata": {},
   "outputs": [],
   "source": []
  }
 ],
 "metadata": {
  "kernelspec": {
   "display_name": "Python 3 (ipykernel)",
   "language": "python",
   "name": "python3"
  },
  "language_info": {
   "codemirror_mode": {
    "name": "ipython",
    "version": 3
   },
   "file_extension": ".py",
   "mimetype": "text/x-python",
   "name": "python",
   "nbconvert_exporter": "python",
   "pygments_lexer": "ipython3",
   "version": "3.7.11"
  }
 },
 "nbformat": 4,
 "nbformat_minor": 5
}
